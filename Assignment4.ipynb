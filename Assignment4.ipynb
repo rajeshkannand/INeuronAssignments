{
 "cells": [
  {
   "cell_type": "code",
   "execution_count": null,
   "id": "4694b051",
   "metadata": {},
   "outputs": [],
   "source": [
    "1. What exactly is []?\n",
    "\n",
    "Answer\n",
    "\n",
    "Index brackets ([]) have many uses in Python. First, they are used to define \"list literals,\" allowing you\n",
    "to declare a list and its contents in your program. Index brackets are also used to write expressions that \n",
    "evaluate to a single item within a list, or a single character in a string"
   ]
  },
  {
   "cell_type": "code",
   "execution_count": null,
   "id": "df245b4d",
   "metadata": {},
   "outputs": [],
   "source": [
    "2. In a list of values stored in a variable called spam, how would you assign the value 'hello' \n",
    "as the third value? (Assume [2, 4, 6, 8, 10] are in spam.)\n",
    "\n",
    "Answer\n",
    "\n",
    "using list insert function \n",
    "\n",
    "spam = [2, 4, 6, 8, 10]\n",
    "spam.insert(2, \"Hello\")"
   ]
  },
  {
   "cell_type": "code",
   "execution_count": null,
   "id": "e0c1c792",
   "metadata": {},
   "outputs": [],
   "source": [
    "Let's pretend the spam includes the list ['a', 'b', 'c', 'd'] for the next three queries.\n",
    "\n",
    "# assuming\n",
    " spam = ['a', 'b', 'c', 'd']"
   ]
  },
  {
   "cell_type": "code",
   "execution_count": null,
   "id": "f53d7c73",
   "metadata": {},
   "outputs": [],
   "source": [
    "3. What is the value of spam[int(int('3' * 2) / 11)]?\n",
    "\n",
    "Answer\n",
    "\n",
    "d"
   ]
  },
  {
   "cell_type": "code",
   "execution_count": null,
   "id": "4e6ce1fa",
   "metadata": {},
   "outputs": [],
   "source": [
    "4. What is the value of spam[-1]?\n",
    "\n",
    "Answer\n",
    "\n",
    "d"
   ]
  },
  {
   "cell_type": "code",
   "execution_count": null,
   "id": "63d06f46",
   "metadata": {},
   "outputs": [],
   "source": [
    "5. What is the value of spam[:2]?\n",
    "\n",
    "\n",
    "Answer\n",
    "\n",
    "['a', 'b']"
   ]
  },
  {
   "cell_type": "code",
   "execution_count": null,
   "id": "e6cbe298",
   "metadata": {},
   "outputs": [],
   "source": [
    "Let's pretend bacon has the list [3.14, 'cat,' 11, 'cat,' True] for the next three questions.\n",
    "\n",
    "# the above list has syntax error, assuming the following \n",
    "\n",
    "bacon = [3.14, 'cat', 11, 'cat', True]"
   ]
  },
  {
   "cell_type": "code",
   "execution_count": null,
   "id": "c60057d5",
   "metadata": {},
   "outputs": [],
   "source": [
    "6. What is the value of bacon.index('cat')?\n",
    "\n",
    "Answer\n",
    "\n",
    "1"
   ]
  },
  {
   "cell_type": "code",
   "execution_count": null,
   "id": "295f1ea7",
   "metadata": {},
   "outputs": [],
   "source": [
    "7. How does bacon.append(99) change the look of the list value in bacon?\n",
    "\n",
    "Answer\n",
    "\n",
    "The List will become like this [3.14, 'cat', 11, 'cat', True, 99] so the value is appended at the end of the list"
   ]
  },
  {
   "cell_type": "code",
   "execution_count": null,
   "id": "04b956bb",
   "metadata": {},
   "outputs": [],
   "source": [
    "8. How does bacon.remove('cat') change the look of the list in bacon?\n",
    "\n",
    "Answer\n",
    "\n",
    "the first instance of the cat will be removed from the list and the list will appear as follows\n",
    "[3.14, 11, 'cat', True]"
   ]
  },
  {
   "cell_type": "code",
   "execution_count": null,
   "id": "8b6386f9",
   "metadata": {},
   "outputs": [],
   "source": [
    "9. What are the list concatenation and list replication operators?\n",
    "\n",
    "Answer\n",
    "\n",
    "The operator for list concatenation is +, while the operator for replication is *. \n",
    "This is the same as for strings."
   ]
  },
  {
   "cell_type": "code",
   "execution_count": null,
   "id": "591472d2",
   "metadata": {},
   "outputs": [],
   "source": [
    "10. What is difference between the list methods append() and insert()?\n",
    "\n",
    "Answer\n",
    "\n",
    " In python list, append method can be use for adding new element at the end of the list, but by using insert\n",
    "we can add as well as can modify already occupied position. append method takes one argument (which you have \n",
    "to insert in the list) while insert method takes two elements, first will be the position of element and second\n",
    "will the element itself."
   ]
  },
  {
   "cell_type": "code",
   "execution_count": null,
   "id": "d8a542e1",
   "metadata": {},
   "outputs": [],
   "source": [
    "11. What are the two methods for removing items from a list?\n",
    "\n",
    "Answer\n",
    "\n",
    "The remove() method removes the first matching element (which is passed as an argument) from the list. \n",
    "The pop() method removes an element at a given index, and will also return the removed item. You can \n",
    "also use the del keyword in Python to remove an element or slice from a list."
   ]
  },
  {
   "cell_type": "code",
   "execution_count": null,
   "id": "d8acb4d3",
   "metadata": {},
   "outputs": [],
   "source": [
    "12. Describe how list values and string values are identical.\n",
    "\n",
    "Answer\n",
    "\n",
    "The similarity between Lists and Strings in Python is that both are sequences. The differences between\n",
    "them are that firstly, Lists are mutable but Strings are immutable. Secondly, elements of a list can be\n",
    "of different types whereas a String only contains characters that are all of String type"
   ]
  },
  {
   "cell_type": "code",
   "execution_count": null,
   "id": "093a7513",
   "metadata": {},
   "outputs": [],
   "source": [
    "13. What's the difference between tuples and lists?\n",
    "\n",
    "Answer\n",
    "\n",
    "List and Tuple in Python are the classes of Python Data Structures. The list is dynamic, whereas the tuple\n",
    "has static characteristics. This means that lists can be modified whereas tuples cannot be modified,\n",
    "the tuple is faster than the list because of static in nature. Lists are denoted by the square brackets \n",
    "but tuples are denoted as parenthesis."
   ]
  },
  {
   "cell_type": "code",
   "execution_count": null,
   "id": "e5f24562",
   "metadata": {},
   "outputs": [],
   "source": [
    "14. How do you type a tuple value that only contains the integer 42?\n",
    "\n",
    "Answer\n",
    "\n",
    "tuplexample=(42,)\n"
   ]
  },
  {
   "cell_type": "code",
   "execution_count": null,
   "id": "b9ef0a77",
   "metadata": {},
   "outputs": [],
   "source": [
    "15. How do you get a list value's in tuple form? How do you get a tuple value's in list form?\n",
    "\n",
    "Answer\n",
    "\n",
    "using tuple() function \n",
    "\n",
    "sample_list = ['Compile', 'With', 'Favtutor']\n",
    "#convert list into tuple\n",
    "tuple1 = tuple(sample_list)\n",
    "\n",
    "Python list method list() takes sequence types and converts them to lists. This is used to convert a given\n",
    "tuple into list. Note − Tuple are very similar to lists with only difference that element values of a tuple \n",
    "can not be changed and tuple elements are put between parentheses instead of square bracket.\n",
    "\n",
    "aTuple = (123, 'xyz', 'zara', 'abc');\n",
    "aList = list(aTuple)"
   ]
  },
  {
   "cell_type": "code",
   "execution_count": null,
   "id": "b232870d",
   "metadata": {},
   "outputs": [],
   "source": [
    "16. Variables that \"contain\" list values are not necessarily lists themselves. Instead, what do they contain?\n",
    "\n",
    "Answer\n",
    "\n",
    "Variables will contain references to list values rather than list values themselves.\n",
    "But for strings and integer values, variables simply contain the string or integer value"
   ]
  },
  {
   "cell_type": "code",
   "execution_count": null,
   "id": "81054dc8",
   "metadata": {},
   "outputs": [],
   "source": [
    "17. How do you distinguish between copy.copy() and copy.deepcopy()?\n",
    "\n",
    "Answer\n",
    "\n",
    "copy() create reference to original object. If you change copied object - you change the original object. . \n",
    "deepcopy() creates new object and does real copying of original object to new one.\n",
    "Changing new deepcopied object doesn't affect original object."
   ]
  }
 ],
 "metadata": {
  "kernelspec": {
   "display_name": "Python 3 (ipykernel)",
   "language": "python",
   "name": "python3"
  },
  "language_info": {
   "codemirror_mode": {
    "name": "ipython",
    "version": 3
   },
   "file_extension": ".py",
   "mimetype": "text/x-python",
   "name": "python",
   "nbconvert_exporter": "python",
   "pygments_lexer": "ipython3",
   "version": "3.8.5"
  }
 },
 "nbformat": 4,
 "nbformat_minor": 5
}
