{
 "cells": [
  {
   "cell_type": "code",
   "execution_count": null,
   "id": "0752684b",
   "metadata": {},
   "outputs": [],
   "source": [
    "1.What are the two values of the Boolean data type? How do you write them\n",
    "\n",
    "True and False are the two values."
   ]
  },
  {
   "cell_type": "code",
   "execution_count": null,
   "id": "cb50cae4",
   "metadata": {},
   "outputs": [],
   "source": [
    "2. What are the three different types of Boolean operators?\n",
    "\n",
    "and  returns True if both statements are true\n",
    "or   returns True if one of the statement is true\n",
    "not  reverses the result"
   ]
  },
  {
   "cell_type": "code",
   "execution_count": null,
   "id": "c400f7b2",
   "metadata": {},
   "outputs": [],
   "source": [
    "3. Make a list of each Boolean operator's truth tables \n",
    "(i.e. every possible combination of Boolean values for the operator and what it evaluate ).\n",
    "\n",
    "and Truth Table\n",
    "\n",
    "x          and       y      returns\n",
    "True       and       True     True\n",
    "True       and       False    False\n",
    "False      and       True     False\n",
    "False      and       False    False\n",
    "\n",
    "or Truth Table\n",
    "\n",
    "x          or       y      returns\n",
    "True       or       True     True\n",
    "True       or       False    True\n",
    "False      or       True     True\n",
    "False      or       False    False\n",
    "\n",
    "not Truth Table\n",
    "\n",
    "not      x     returns\n",
    "not      True    False\n",
    "not      False   True"
   ]
  },
  {
   "cell_type": "code",
   "execution_count": null,
   "id": "0b99aedc",
   "metadata": {},
   "outputs": [],
   "source": [
    "4. What are the values of the following expressions?\n",
    "\n",
    "(5 > 4) and (3 == 5)                   evaluates to False\n",
    "not (5 > 4)                            evaluates to False\n",
    "(5 > 4) or (3 == 5)                    evaluates to True\n",
    "not ((5 > 4) or (3 == 5))              evaluates to False\n",
    "(True and True) and (True == False)    evaluates to False\n",
    "(not False) or (not True)              evaluates to True"
   ]
  },
  {
   "cell_type": "code",
   "execution_count": null,
   "id": "e4e91f96",
   "metadata": {},
   "outputs": [],
   "source": [
    "5. What are the six comparison operators?\n",
    "\n",
    "Python has six comparison operators, which are as follows:\n",
    "\n",
    "Less than ( < )\n",
    "Less than or equal to (<=)\n",
    "Greater than (>)\n",
    "Greater than or equal to (>=)\n",
    "Equal to ( == )\n",
    "Not equal to ( != )\n",
    "These comparison operators compare two values and return a boolean value, either True or False.\n",
    "\n",
    "And you can use these comparison operators to compare both numbers and strings."
   ]
  },
  {
   "cell_type": "code",
   "execution_count": null,
   "id": "128e9104",
   "metadata": {},
   "outputs": [],
   "source": [
    "6. How do you tell the difference between the equal to and assignment operators? Describe a condition \n",
    "and when you would use one.\n",
    "\n",
    "The “=” is an assignment operator is used to assign the value on the right to the variable on the left. \n",
    "The '==' operator checks whether the two given operands are equal or not. If so, it returns true. \n",
    "Otherwise it returns false"
   ]
  },
  {
   "cell_type": "code",
   "execution_count": null,
   "id": "e2eba84a",
   "metadata": {},
   "outputs": [],
   "source": [
    "7. Identify the three blocks in this code:\n",
    "spam = 0\n",
    "if spam == 10:\n",
    "print('eggs')\n",
    "if spam > 5:\n",
    "print('bacon')\n",
    "else:\n",
    "print('ham')\n",
    "print('spam')\n",
    "print('spam')\n",
    " \n",
    "# answer\n",
    "spam = 0\n",
    "if spam == 10:\n",
    "    print('eggs')\n",
    "if spam > 5:\n",
    "    print('bacon')\n",
    "else:\n",
    "    print('ham')\n",
    "print('spam')\n",
    "print('spam')"
   ]
  },
  {
   "cell_type": "code",
   "execution_count": null,
   "id": "d8455438",
   "metadata": {},
   "outputs": [],
   "source": [
    "8. Write code that prints Hello if 1 is stored in spam, prints Howdy if 2 is stored in spam, and prints\n",
    "Greetings! if anything else is stored in spam.\n",
    "\n",
    "Answer\n",
    "\n",
    "spam = 10\n",
    "if spam == 1:\n",
    "    print('Hello')\n",
    "if spam ==2:\n",
    "    print('Howdy')\n",
    "if (spam !=2 and spam !=1):\n",
    "    print('Greetings')\n"
   ]
  },
  {
   "cell_type": "code",
   "execution_count": null,
   "id": "365fd7c6",
   "metadata": {},
   "outputs": [],
   "source": [
    "9.If your programme is stuck in an endless loop, what keys you’ll press?\n",
    "\n",
    "Answer\n",
    " Ctl + c"
   ]
  },
  {
   "cell_type": "code",
   "execution_count": null,
   "id": "bba6de28",
   "metadata": {},
   "outputs": [],
   "source": [
    "10. How can you tell the difference between break and continue?\n",
    "\n",
    "Answer\n",
    "\n",
    "The main difference between both the statements is that when break keyword comes, it terminates the execution \n",
    "of the current loop and passes the control over the next loop or main body, whereas when continue keyword is\n",
    "encountered, it skips the current iteration and executes the very next iteration in the loop"
   ]
  },
  {
   "cell_type": "code",
   "execution_count": null,
   "id": "8dc678df",
   "metadata": {},
   "outputs": [],
   "source": [
    "11. In a for loop, what is the difference between range(10), range(0, 10), and range(0, 10, 1)?\n",
    "\n",
    "Answer\n",
    "\n",
    "range(10)\n",
    "To loop through a set of code a specified number of times, we can use the range() function,\n",
    "The range() function returns a sequence of numbers, starting from 0 by default, and increments by 1 \n",
    "(by default), and ends at a specified number\n",
    "\n",
    "range(0, 10)\n",
    "The range() function defaults to 0 as a starting value, however it is possible to specify\n",
    "the starting value by adding a parameter: range(0, 10), which means values from 0 to 10 (but not including 10):\n",
    "        \n",
    "The range() function defaults to increment the sequence by 1, however it is possible to specify \n",
    "the increment value by adding a third parameter: range(0, 10, 1) - here the sequence is incremented by 1 \n",
    "which is also the default value\n",
    "\n",
    "The answer is there is no difference."
   ]
  },
  {
   "cell_type": "code",
   "execution_count": null,
   "id": "6197ed17",
   "metadata": {},
   "outputs": [],
   "source": [
    "12. Write a short program that prints the numbers 1 to 10 using a for loop.Then write an equivalent program \n",
    "that prints the numbers 1 to 10 using a while loop.\n",
    "\n",
    "Answer\n",
    "\n",
    "For loop to print 1 to 10\n",
    "\n",
    "for i in range(1, 11):\n",
    "  print(i)\n",
    "\n",
    "while loop to print 1 to 10\n",
    "\n",
    "i = 1\n",
    "while i < 11:\n",
    "  print(i)\n",
    "  i += 1"
   ]
  },
  {
   "cell_type": "code",
   "execution_count": null,
   "id": "5bd32e98",
   "metadata": {},
   "outputs": [],
   "source": [
    "13. If you had a function named bacon() inside a module named spam, how would you call it after importing spam?\n",
    "\n",
    "Answer\n",
    "\n",
    "from spam import bacon\n",
    "\n",
    "bacon()"
   ]
  },
  {
   "cell_type": "code",
   "execution_count": null,
   "id": "1f593ce0",
   "metadata": {},
   "outputs": [],
   "source": []
  },
  {
   "cell_type": "code",
   "execution_count": null,
   "id": "1f581ee4",
   "metadata": {},
   "outputs": [],
   "source": []
  }
 ],
 "metadata": {
  "kernelspec": {
   "display_name": "Python 3 (ipykernel)",
   "language": "python",
   "name": "python3"
  },
  "language_info": {
   "codemirror_mode": {
    "name": "ipython",
    "version": 3
   },
   "file_extension": ".py",
   "mimetype": "text/x-python",
   "name": "python",
   "nbconvert_exporter": "python",
   "pygments_lexer": "ipython3",
   "version": "3.8.5"
  }
 },
 "nbformat": 4,
 "nbformat_minor": 5
}
