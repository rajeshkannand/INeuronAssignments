{
 "cells": [
  {
   "cell_type": "code",
   "execution_count": null,
   "id": "0fc77225",
   "metadata": {},
   "outputs": [],
   "source": [
    "1. In the below elements which of them are values or an expression? eg:- values can be integer or string and expressions will be mathematical operators.\n",
    "*       is an expression\n",
    "'hello' is a string value\n",
    "-87.8   is a value\n",
    "-       is an expression\n",
    "/       is an expression\n",
    "    •   is an expression\n",
    "6       is a value"
   ]
  },
  {
   "cell_type": "code",
   "execution_count": null,
   "id": "e3ef9266",
   "metadata": {},
   "outputs": [],
   "source": [
    "2. What is the difference between string and variable?\n",
    "\n",
    "Python has no command for declaring a variable. A Python variable is a symbolic name that is a reference or\n",
    "pointer to an object. Once an object is assigned to a variable, you can refer to the object by that name. \n",
    "But the data itself is still contained within the object.\n",
    "\n",
    "Strings in Python are arrays of bytes representing unicode characters. Strings in python are surrounded by either \n",
    "single quotation marks, or double quotation marks. Assigning a string to a variable is done with the variable name\n",
    "followed by an equal sign and the string\n"
   ]
  },
  {
   "cell_type": "code",
   "execution_count": null,
   "id": "889fc570",
   "metadata": {},
   "outputs": [],
   "source": [
    "3. Describe three different data types.\n",
    "\n",
    "Python has many data types \n",
    "\n",
    "List   Lists are used to store multiple items in a single variable. List items are ordered, changeable, and \n",
    "allow duplicate values. List items are indexed.\n",
    "\n",
    "Tuple  A tuple is a collection which is ordered and unchangeable. Tuples are written with round brackets.\n",
    "Tuple items are ordered, unchangeable, and allow duplicate values. Tuple items are indexed"
   ]
  },
  {
   "cell_type": "code",
   "execution_count": null,
   "id": "300eb2b0",
   "metadata": {},
   "outputs": [],
   "source": [
    "4. What is an expression made up of? What do all expressions do?\n",
    "\n",
    "An expression is a combination of operators and operands that is interpreted to produce some other value. \n",
    "In any programming language, an expression is evaluated as per the precedence of its operators. So that0\n",
    "if there is more than one operator in an expression, their precedence decides which operation \n",
    "will be performed first."
   ]
  },
  {
   "cell_type": "code",
   "execution_count": null,
   "id": "83e895fd",
   "metadata": {},
   "outputs": [],
   "source": [
    "5. This assignment statements, like spam = 10. What is the difference between an expression and a statement?\n",
    "\n",
    "Statements represent an action or command e.g print statements, assignment statements.\n",
    "Expression is a combination of variables, operations and values that yields a result value."
   ]
  },
  {
   "cell_type": "code",
   "execution_count": 1,
   "id": "118ba98f",
   "metadata": {},
   "outputs": [
    {
     "name": "stdout",
     "output_type": "stream",
     "text": [
      "Object `contain` not found.\n",
      "22\n"
     ]
    }
   ],
   "source": [
    "6. After running the following code, what does the variable bacon contain?\n",
    "bacon = 22\n",
    "bacon + 1\n",
    "\n",
    "It must contain 22\n",
    "#print (bacon)"
   ]
  },
  {
   "cell_type": "code",
   "execution_count": null,
   "id": "f5cb99e0",
   "metadata": {},
   "outputs": [],
   "source": [
    "7. What should the values of the following two terms be?\n",
    "'spam' + 'spamspam'\n",
    "'spam' * 3\n",
    "\n",
    "spamspamspam\n",
    "spamspamspam"
   ]
  },
  {
   "cell_type": "code",
   "execution_count": null,
   "id": "af4bbe7f",
   "metadata": {},
   "outputs": [],
   "source": [
    "8. Why is eggs a valid variable name while 100 is invalid?\n",
    "\n",
    "Variable name must start with a character.  100 is invalid variable name coz it starts with a number"
   ]
  },
  {
   "cell_type": "code",
   "execution_count": null,
   "id": "70e0d0fe",
   "metadata": {},
   "outputs": [],
   "source": [
    "9. What three functions can be used to get the integer, floating-point number, or string version of a value?\n",
    "The int(), float(), and str() functions will evaluate to the integer, floating-point number,\n",
    "and string versions of the value passed to them"
   ]
  },
  {
   "cell_type": "code",
   "execution_count": null,
   "id": "8f5d8500",
   "metadata": {},
   "outputs": [],
   "source": [
    "10. Why does this expression cause an error? How can you fix it?\n",
    "'I have eaten ' + 99 + ' burritos.'\n",
    "\n",
    "because 99 is an integer it cannot be concatenated with strings, if we have to concatenate it we need to do typecasting.\n",
    "\n",
    "or 'I have eaten ' + '99' + ' burritos.'"
   ]
  },
  {
   "cell_type": "code",
   "execution_count": null,
   "id": "71a283e6",
   "metadata": {},
   "outputs": [],
   "source": []
  },
  {
   "cell_type": "code",
   "execution_count": null,
   "id": "83b43dc1",
   "metadata": {},
   "outputs": [],
   "source": []
  },
  {
   "cell_type": "code",
   "execution_count": null,
   "id": "850e9360",
   "metadata": {},
   "outputs": [],
   "source": []
  }
 ],
 "metadata": {
  "kernelspec": {
   "display_name": "Python 3 (ipykernel)",
   "language": "python",
   "name": "python3"
  },
  "language_info": {
   "codemirror_mode": {
    "name": "ipython",
    "version": 3
   },
   "file_extension": ".py",
   "mimetype": "text/x-python",
   "name": "python",
   "nbconvert_exporter": "python",
   "pygments_lexer": "ipython3",
   "version": "3.8.5"
  }
 },
 "nbformat": 4,
 "nbformat_minor": 5
}
