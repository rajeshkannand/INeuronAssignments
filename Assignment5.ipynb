{
 "cells": [
  {
   "cell_type": "code",
   "execution_count": null,
   "id": "22703f9f",
   "metadata": {},
   "outputs": [],
   "source": [
    "1. What does an empty dictionary's code look like?\n",
    "\n",
    "# Answer\n",
    "\n",
    "To create an empty dictionary, the dictionary should be set to {}.\n",
    "\n",
    "This is shown in the code below.\n",
    "\n",
    "items= {}\n",
    "\n",
    "Another way of creating an empty dictionary is by setting the dictionary equal to dict()\n",
    "\n",
    "items= dict()"
   ]
  },
  {
   "cell_type": "code",
   "execution_count": null,
   "id": "f47ad877",
   "metadata": {},
   "outputs": [],
   "source": [
    "2. What is the value of a dictionary value with the key 'foo' and the value 42?\n",
    "\n",
    "# Answer\n",
    "\n",
    "It will look like tmp = {'foo': 42}"
   ]
  },
  {
   "cell_type": "code",
   "execution_count": null,
   "id": "bbd7137d",
   "metadata": {},
   "outputs": [],
   "source": [
    "3. What is the most significant distinction between a dictionary and a list?\n",
    "\n",
    "# Answer\n",
    "\n",
    "The elements in a list are ordered, and the elements in a dictionary aren't.\n",
    "Also, elements in a list must be accessed using numerical indices. Elements in a dictionary are indexed \n",
    "using keys, which can have different data types."
   ]
  },
  {
   "cell_type": "code",
   "execution_count": null,
   "id": "60fb4ea7",
   "metadata": {},
   "outputs": [],
   "source": [
    "4. What happens if you try to access spam['foo'] if spam is {'bar': 100}?\n",
    "\n",
    "# Answer\n",
    "\n",
    "You will get a KeyError error."
   ]
  },
  {
   "cell_type": "code",
   "execution_count": null,
   "id": "0bf7945a",
   "metadata": {},
   "outputs": [],
   "source": [
    "5. If a dictionary is stored in spam, what is the difference between the expressions 'cat' in spam and \n",
    "'cat' in spam.keys()?\n",
    "\n",
    "# Answer\n",
    "\n",
    "There is no difference, the expression \" 'cat' in spam \" checks whether 'cat' is a key in spam"
   ]
  },
  {
   "cell_type": "code",
   "execution_count": null,
   "id": "0e141d02",
   "metadata": {},
   "outputs": [],
   "source": [
    "6. If a dictionary is stored in spam, what is the difference between the expressions 'cat' in spam \n",
    "and 'cat' in spam.values()?\n",
    "\n",
    "# Answer\n",
    "\n",
    "'cat' in spam checks whether'cat' exists as a key in spam. 'cat' in spam.values() checks whether 'cat'\n",
    "is a value in spam."
   ]
  },
  {
   "cell_type": "code",
   "execution_count": null,
   "id": "84f44893",
   "metadata": {},
   "outputs": [],
   "source": [
    "7. What is a shortcut for the following code?\n",
    "if 'color' not in spam:\n",
    "spam['color'] = 'black'\n",
    "\n",
    "# Answer\n",
    "\n",
    "spam.setdefault('color','black')"
   ]
  },
  {
   "cell_type": "code",
   "execution_count": null,
   "id": "4f6cc328",
   "metadata": {},
   "outputs": [],
   "source": [
    "8. How do you \"pretty print\" dictionary values using which module and function?\n",
    "\n",
    "# Answer\n",
    "\n",
    "The module is pprint.\n",
    "The functions are pprint.pprint() and pprint.pformat()."
   ]
  },
  {
   "cell_type": "code",
   "execution_count": null,
   "id": "05b32dd5",
   "metadata": {},
   "outputs": [],
   "source": []
  },
  {
   "cell_type": "code",
   "execution_count": null,
   "id": "9d196527",
   "metadata": {},
   "outputs": [],
   "source": []
  }
 ],
 "metadata": {
  "kernelspec": {
   "display_name": "Python 3 (ipykernel)",
   "language": "python",
   "name": "python3"
  },
  "language_info": {
   "codemirror_mode": {
    "name": "ipython",
    "version": 3
   },
   "file_extension": ".py",
   "mimetype": "text/x-python",
   "name": "python",
   "nbconvert_exporter": "python",
   "pygments_lexer": "ipython3",
   "version": "3.8.5"
  }
 },
 "nbformat": 4,
 "nbformat_minor": 5
}
