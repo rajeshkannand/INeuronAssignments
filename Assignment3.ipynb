{
 "cells": [
  {
   "cell_type": "code",
   "execution_count": null,
   "id": "e56bfcf9",
   "metadata": {},
   "outputs": [],
   "source": [
    "1. Why are functions advantageous to have in your programs?\n",
    "\n",
    "Answer\n",
    "\n",
    "A function is like a mini-program within a program. This allows us to reduce a complicated program into smaller, more manageable chunks, \n",
    "which reduces the overall complexity of our program\n",
    "\n",
    "Reusable - Once a function is written, it can be called multiple times from within the program.\n",
    "This avoids duplicated code\n",
    "\n",
    "Testing - Functions are self-contained, once we’ve tested a function to ensure it works,\n",
    "we don’t need to test it again unless we change\n",
    "\n",
    "Extensibility - When we need to extend our program to handle a case it didn’t handle before, functions allow us to make the change in one place and \n",
    "have that change take effect every time the function is called."
   ]
  },
  {
   "cell_type": "code",
   "execution_count": null,
   "id": "fe7daf7c",
   "metadata": {},
   "outputs": [],
   "source": [
    "2. When does the code in a function run: when it's specified or when it's called?\n",
    "    \n",
    "Answer\n",
    "\n",
    "A function will run only when it is called."
   ]
  },
  {
   "cell_type": "code",
   "execution_count": null,
   "id": "6ce6c818",
   "metadata": {},
   "outputs": [],
   "source": [
    "3. What statement creates a function?\n",
    "\n",
    "Answer\n",
    "\n",
    "In Python a function is defined using the def keyword:\n",
    "Example def my_function():\n",
    "          print(\"Hello from a function\")\n",
    "        \n",
    "Here the function name is my_function.\n"
   ]
  },
  {
   "cell_type": "code",
   "execution_count": null,
   "id": "fd09c763",
   "metadata": {},
   "outputs": [],
   "source": [
    "4. What is the difference between a function and a function call?\n",
    "\n",
    "Answer\n",
    "\n",
    "A function is procedure to achieve a particular result while functioncall is using this function\n",
    "to achive that task."
   ]
  },
  {
   "cell_type": "code",
   "execution_count": null,
   "id": "3a5b06c2",
   "metadata": {},
   "outputs": [],
   "source": [
    "5. How many global scopes are there in a Python program? How many local scopes?\n",
    "\n",
    "Answer\n",
    "\n",
    "The part of the program where variables, functions, and objects are easily accessible is commonly \n",
    "referred to as scope in Python. The variables or objects declared in the global scope are easily accessible \n",
    "to all functions within the program. \n",
    "\n",
    "As many local scopes as you want when you write a program. every new function will have its own scope."
   ]
  },
  {
   "cell_type": "code",
   "execution_count": null,
   "id": "63538cb5",
   "metadata": {},
   "outputs": [],
   "source": [
    "6. What happens to variables in a local scope when the function call returns?\n",
    "\n",
    "Answer\n",
    "\n",
    "A variable which is defined inside a function is local to that function. It is accessible from the point at \n",
    "which it is defined until the end of the function, and exists for as long as the function is executing.\n",
    "The parameter names in the function definition behave like local variables, but they contain the values that \n",
    "we pass into the function when we call it. When we use the assignment operator (=) inside a function, its default \n",
    "behaviour is to create a new local variable – unless a variable with the same name is already defined in the local scope.\n",
    "\n",
    "It will cease to exist. Memory will be released."
   ]
  },
  {
   "cell_type": "code",
   "execution_count": null,
   "id": "174c4c04",
   "metadata": {},
   "outputs": [],
   "source": [
    "7. What is the concept of a return value? Is it possible to have a return value in an expression?\n",
    "\n",
    "Answer\n",
    "\n",
    "In general, a function takes arguments (if any), performs some operations, and returns a value (or object). \n",
    "The value that a function returns to the caller is generally known as the function's return value. All Python \n",
    "functions have a return value, either explicit or implicit.\n",
    "\n",
    "expression always evaluate to a value and that can be returned with a return statement or assigned to a vaiable"
   ]
  },
  {
   "cell_type": "code",
   "execution_count": null,
   "id": "0779d344",
   "metadata": {},
   "outputs": [],
   "source": [
    "8. If a function does not have a return statement, what is the return value of a call to that function?\n",
    "\n",
    "Answer\n",
    "\n",
    "If the return statement is without any expression, then the special value None is returned."
   ]
  },
  {
   "cell_type": "code",
   "execution_count": null,
   "id": "de25d45f",
   "metadata": {},
   "outputs": [],
   "source": [
    "9. How do you make a function variable refer to the global variable?\n",
    "\n",
    "Answer\n",
    "\n",
    "A global can be accessed by any function, but it can only be modified if you explicitly declare \n",
    "it with the 'global' keyword inside the function"
   ]
  },
  {
   "cell_type": "code",
   "execution_count": null,
   "id": "919bb7f2",
   "metadata": {},
   "outputs": [],
   "source": [
    "10. What is the data type of None?\n",
    "\n",
    "Answer\n",
    "\n",
    "None is used to define a null value or Null object in Python. It is not the same as an empty string, \n",
    "False, or a zero. It is a data type of the class NoneType object."
   ]
  },
  {
   "cell_type": "code",
   "execution_count": null,
   "id": "f86b593f",
   "metadata": {},
   "outputs": [],
   "source": [
    "11. What does the sentence import areallyourpetsnamederic do?\n",
    "\n",
    "Answer\n",
    "\n",
    "In Python, you use the import keyword to make code in one module available in another. Imports in Python are \n",
    "important for structuring your code effectively. Using imports properly will make you more productive, \n",
    "allowing you to reuse code while keeping your projects maintainable"
   ]
  },
  {
   "cell_type": "code",
   "execution_count": null,
   "id": "d8d59201",
   "metadata": {},
   "outputs": [],
   "source": [
    "12. If you had a bacon() feature in a spam module, what would you call it after importing spam?\n",
    "\n",
    "Answer\n",
    "\n",
    "This function can be called with spam.bacon()"
   ]
  },
  {
   "cell_type": "code",
   "execution_count": null,
   "id": "e4b2334b",
   "metadata": {},
   "outputs": [],
   "source": [
    "13. What can you do to save a programme from crashing if it encounters an error?\n",
    "\n",
    "Answer \n",
    "\n",
    "When it encounters an error, the control is passed to the except block, skipping the code in between and it\n",
    "should the error instead of crashing the program"
   ]
  },
  {
   "cell_type": "code",
   "execution_count": null,
   "id": "38c06982",
   "metadata": {},
   "outputs": [],
   "source": [
    "14. What is the purpose of the try clause? What is the purpose of the except clause?\n",
    "\n",
    "Answer\n",
    "\n",
    "The try block lets you test a block of code for errors. The except block lets you handle the error. The else \n",
    "block lets you execute code when there is no error. The finally block lets you execute code, regardless of the\n",
    "result of the try- and except blocks."
   ]
  }
 ],
 "metadata": {
  "kernelspec": {
   "display_name": "Python 3 (ipykernel)",
   "language": "python",
   "name": "python3"
  },
  "language_info": {
   "codemirror_mode": {
    "name": "ipython",
    "version": 3
   },
   "file_extension": ".py",
   "mimetype": "text/x-python",
   "name": "python",
   "nbconvert_exporter": "python",
   "pygments_lexer": "ipython3",
   "version": "3.8.5"
  }
 },
 "nbformat": 4,
 "nbformat_minor": 5
}
